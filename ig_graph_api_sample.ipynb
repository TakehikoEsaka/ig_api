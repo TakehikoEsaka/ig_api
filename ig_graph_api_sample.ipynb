{
  "nbformat": 4,
  "nbformat_minor": 0,
  "metadata": {
    "colab": {
      "name": "Colaboratory へようこそ",
      "provenance": [],
      "collapsed_sections": [],
      "toc_visible": true,
      "include_colab_link": true
    },
    "kernelspec": {
      "display_name": "Python 3",
      "name": "python3"
    }
  },
  "cells": [
    {
      "cell_type": "markdown",
      "metadata": {
        "id": "view-in-github",
        "colab_type": "text"
      },
      "source": [
        "<a href=\"https://colab.research.google.com/github/TakehikoEsaka/ig_api/blob/main/ig_graph_api_sample.ipynb\" target=\"_parent\"><img src=\"https://colab.research.google.com/assets/colab-badge.svg\" alt=\"Open In Colab\"/></a>"
      ]
    },
    {
      "cell_type": "code",
      "metadata": {
        "id": "Rk2MDvLgvucU"
      },
      "source": [
        "import matplotlib.pyplot as plt\n",
        "import pandas as pd\n",
        "import requests as re\n",
        "%matplotlib inline"
      ],
      "execution_count": 7,
      "outputs": []
    },
    {
      "cell_type": "code",
      "metadata": {
        "id": "jkfxs_OjvzEH"
      },
      "source": [
        "# ここにIDとアクセストークンを定義\n"
      ],
      "execution_count": 51,
      "outputs": []
    },
    {
      "cell_type": "code",
      "metadata": {
        "id": "6DDJdKDXv3U5",
        "colab": {
          "base_uri": "https://localhost:8080/"
        },
        "outputId": "9303ba02-acdf-462a-e066-39ed2db49e35"
      },
      "source": [
        "url = \"https://graph.facebook.com/v11.0/ig_hashtag_search\"\n",
        "q = \"離乳食\"\n",
        "payload = {\"user_id\" : user_id, \"q\" : q, \"access_token\" : access_token}\n",
        "r = re.get(url, params = payload)\n",
        "print(r.url)\n",
        "ig_hashtag_id = r.json()[\"data\"][0][\"id\"]\n",
        "print(\"#{0} id :{1}\".format(q, ig_hashtag_id))"
      ],
      "execution_count": 38,
      "outputs": [
        {
          "output_type": "stream",
          "text": [
            "https://graph.facebook.com/v11.0/ig_hashtag_search?user_id=17841406973263608&q=%E9%9B%A2%E4%B9%B3%E9%A3%9F&access_token=EAAElAXNNcb8BABgtGt9ThGJX9GFBQcF5NwZBeyhYVMJvSZA7AhoRWcAM8ObAH4ZCIAXQ6NEebFegM63KUFUV1XR89jou3ZBcGEkOhQEzZB9HaTjXodX9E7BQBREYiSI4BWpbfhU6c1sE6ZCraB3T9mhPOfOnsMkJMl7QRRPPrqYBZCRlBpCgZBWS\n",
            "#離乳食 id :17843847292028655\n"
          ],
          "name": "stdout"
        }
      ]
    },
    {
      "cell_type": "code",
      "metadata": {
        "id": "zlniF-3CwGOn",
        "colab": {
          "base_uri": "https://localhost:8080/"
        },
        "outputId": "dfe9a5fa-a341-4d67-b964-de5519dceaf5"
      },
      "source": [
        "url = \"https://graph.facebook.com/{0}/recent_media\".format(ig_hashtag_id)\n",
        "fields = \"id, media_type, timestamp, comments_count, like_count, permalink\"\n",
        "payload = {\"user_id\" : user_id, \"fields\" : fields, \"access_token\" : access_token}\n",
        "r = re.get(url, params = payload)\n",
        "print(r.url)\n",
        "r = r.json()[\"data\"]"
      ],
      "execution_count": 52,
      "outputs": [
        {
          "output_type": "stream",
          "text": [
            "https://graph.facebook.com/17843847292028655/recent_media?user_id=17841406973263608&fields=id%2C+media_type%2C+timestamp%2C+comments_count%2C+like_count%2C+permalink&access_token=EAAElAXNNcb8BABgtGt9ThGJX9GFBQcF5NwZBeyhYVMJvSZA7AhoRWcAM8ObAH4ZCIAXQ6NEebFegM63KUFUV1XR89jou3ZBcGEkOhQEzZB9HaTjXodX9E7BQBREYiSI4BWpbfhU6c1sE6ZCraB3T9mhPOfOnsMkJMl7QRRPPrqYBZCRlBpCgZBWS\n"
          ],
          "name": "stdout"
        }
      ]
    },
    {
      "cell_type": "code",
      "metadata": {
        "colab": {
          "base_uri": "https://localhost:8080/"
        },
        "id": "_r1W8g_4_rAX",
        "outputId": "9c7a30b5-73fc-416f-803b-f975ef10ed84"
      },
      "source": [
        "df = pd.io.json.json_normalize(r)"
      ],
      "execution_count": 53,
      "outputs": [
        {
          "output_type": "stream",
          "text": [
            "/usr/local/lib/python3.7/dist-packages/ipykernel_launcher.py:1: FutureWarning: pandas.io.json.json_normalize is deprecated, use pandas.json_normalize instead\n",
            "  \"\"\"Entry point for launching an IPython kernel.\n"
          ],
          "name": "stderr"
        }
      ]
    },
    {
      "cell_type": "code",
      "metadata": {
        "colab": {
          "base_uri": "https://localhost:8080/",
          "height": 824
        },
        "id": "V8NJfvn5-I8n",
        "outputId": "6147cf50-25aa-46d0-bade-84ec28fc670e"
      },
      "source": [
        "display(df)"
      ],
      "execution_count": 54,
      "outputs": [
        {
          "output_type": "display_data",
          "data": {
            "text/html": [
              "<div>\n",
              "<style scoped>\n",
              "    .dataframe tbody tr th:only-of-type {\n",
              "        vertical-align: middle;\n",
              "    }\n",
              "\n",
              "    .dataframe tbody tr th {\n",
              "        vertical-align: top;\n",
              "    }\n",
              "\n",
              "    .dataframe thead th {\n",
              "        text-align: right;\n",
              "    }\n",
              "</style>\n",
              "<table border=\"1\" class=\"dataframe\">\n",
              "  <thead>\n",
              "    <tr style=\"text-align: right;\">\n",
              "      <th></th>\n",
              "      <th>id</th>\n",
              "      <th>media_type</th>\n",
              "      <th>timestamp</th>\n",
              "      <th>comments_count</th>\n",
              "      <th>like_count</th>\n",
              "      <th>permalink</th>\n",
              "    </tr>\n",
              "  </thead>\n",
              "  <tbody>\n",
              "    <tr>\n",
              "      <th>0</th>\n",
              "      <td>17886020996498021</td>\n",
              "      <td>CAROUSEL_ALBUM</td>\n",
              "      <td>2021-08-12T10:58:07+0000</td>\n",
              "      <td>0</td>\n",
              "      <td>0.0</td>\n",
              "      <td>https://www.instagram.com/p/CSeMoH-Je6T/</td>\n",
              "    </tr>\n",
              "    <tr>\n",
              "      <th>1</th>\n",
              "      <td>17949735757503875</td>\n",
              "      <td>IMAGE</td>\n",
              "      <td>2021-08-12T10:56:09+0000</td>\n",
              "      <td>0</td>\n",
              "      <td>0.0</td>\n",
              "      <td>https://www.instagram.com/p/CSeMZtJF2gj/</td>\n",
              "    </tr>\n",
              "    <tr>\n",
              "      <th>2</th>\n",
              "      <td>17917998355852969</td>\n",
              "      <td>CAROUSEL_ALBUM</td>\n",
              "      <td>2021-08-12T10:55:12+0000</td>\n",
              "      <td>0</td>\n",
              "      <td>1.0</td>\n",
              "      <td>https://www.instagram.com/p/CSeMSv4J0a6/</td>\n",
              "    </tr>\n",
              "    <tr>\n",
              "      <th>3</th>\n",
              "      <td>17901880817136242</td>\n",
              "      <td>IMAGE</td>\n",
              "      <td>2021-08-12T10:54:41+0000</td>\n",
              "      <td>0</td>\n",
              "      <td>5.0</td>\n",
              "      <td>https://www.instagram.com/p/CSeMPBXlfB5/</td>\n",
              "    </tr>\n",
              "    <tr>\n",
              "      <th>4</th>\n",
              "      <td>17847331328623838</td>\n",
              "      <td>IMAGE</td>\n",
              "      <td>2021-08-12T10:54:19+0000</td>\n",
              "      <td>0</td>\n",
              "      <td>1.0</td>\n",
              "      <td>https://www.instagram.com/p/CSeMMRup7tY/</td>\n",
              "    </tr>\n",
              "    <tr>\n",
              "      <th>5</th>\n",
              "      <td>18187338439141605</td>\n",
              "      <td>IMAGE</td>\n",
              "      <td>2021-08-12T10:53:40+0000</td>\n",
              "      <td>0</td>\n",
              "      <td>0.0</td>\n",
              "      <td>https://www.instagram.com/p/CSeMHfNJmmr/</td>\n",
              "    </tr>\n",
              "    <tr>\n",
              "      <th>6</th>\n",
              "      <td>18002793907353253</td>\n",
              "      <td>CAROUSEL_ALBUM</td>\n",
              "      <td>2021-08-12T10:53:01+0000</td>\n",
              "      <td>0</td>\n",
              "      <td>1.0</td>\n",
              "      <td>https://www.instagram.com/p/CSeMCu9nVvb/</td>\n",
              "    </tr>\n",
              "    <tr>\n",
              "      <th>7</th>\n",
              "      <td>18178747291132543</td>\n",
              "      <td>CAROUSEL_ALBUM</td>\n",
              "      <td>2021-08-12T10:52:51+0000</td>\n",
              "      <td>0</td>\n",
              "      <td>2.0</td>\n",
              "      <td>https://www.instagram.com/p/CSeMBkil816/</td>\n",
              "    </tr>\n",
              "    <tr>\n",
              "      <th>8</th>\n",
              "      <td>17866152284573075</td>\n",
              "      <td>CAROUSEL_ALBUM</td>\n",
              "      <td>2021-08-12T10:52:16+0000</td>\n",
              "      <td>0</td>\n",
              "      <td>1.0</td>\n",
              "      <td>https://www.instagram.com/p/CSeL9OwlkSd/</td>\n",
              "    </tr>\n",
              "    <tr>\n",
              "      <th>9</th>\n",
              "      <td>17963684158445308</td>\n",
              "      <td>IMAGE</td>\n",
              "      <td>2021-08-12T10:51:08+0000</td>\n",
              "      <td>0</td>\n",
              "      <td>0.0</td>\n",
              "      <td>https://www.instagram.com/p/CSeL1BsJ-YM/</td>\n",
              "    </tr>\n",
              "    <tr>\n",
              "      <th>10</th>\n",
              "      <td>17863917911527699</td>\n",
              "      <td>CAROUSEL_ALBUM</td>\n",
              "      <td>2021-08-12T10:51:03+0000</td>\n",
              "      <td>0</td>\n",
              "      <td>5.0</td>\n",
              "      <td>https://www.instagram.com/p/CSeL0bkFGkf/</td>\n",
              "    </tr>\n",
              "    <tr>\n",
              "      <th>11</th>\n",
              "      <td>17913870016901381</td>\n",
              "      <td>IMAGE</td>\n",
              "      <td>2021-08-12T10:50:06+0000</td>\n",
              "      <td>0</td>\n",
              "      <td>0.0</td>\n",
              "      <td>https://www.instagram.com/p/CSeLtb_BzUB/</td>\n",
              "    </tr>\n",
              "    <tr>\n",
              "      <th>12</th>\n",
              "      <td>17896264376318734</td>\n",
              "      <td>IMAGE</td>\n",
              "      <td>2021-08-12T10:48:25+0000</td>\n",
              "      <td>1</td>\n",
              "      <td>7.0</td>\n",
              "      <td>https://www.instagram.com/p/CSeLhCLF66x/</td>\n",
              "    </tr>\n",
              "    <tr>\n",
              "      <th>13</th>\n",
              "      <td>17957940877471146</td>\n",
              "      <td>IMAGE</td>\n",
              "      <td>2021-08-12T10:48:15+0000</td>\n",
              "      <td>0</td>\n",
              "      <td>0.0</td>\n",
              "      <td>https://www.instagram.com/p/CSeLf6qlJGY/</td>\n",
              "    </tr>\n",
              "    <tr>\n",
              "      <th>14</th>\n",
              "      <td>17943068944554332</td>\n",
              "      <td>CAROUSEL_ALBUM</td>\n",
              "      <td>2021-08-12T10:47:58+0000</td>\n",
              "      <td>0</td>\n",
              "      <td>2.0</td>\n",
              "      <td>https://www.instagram.com/p/CSeLd2GJQyg/</td>\n",
              "    </tr>\n",
              "    <tr>\n",
              "      <th>15</th>\n",
              "      <td>17891852183213883</td>\n",
              "      <td>CAROUSEL_ALBUM</td>\n",
              "      <td>2021-08-12T10:47:37+0000</td>\n",
              "      <td>0</td>\n",
              "      <td>0.0</td>\n",
              "      <td>https://www.instagram.com/p/CSeLbQEBLEf/</td>\n",
              "    </tr>\n",
              "    <tr>\n",
              "      <th>16</th>\n",
              "      <td>17863288994531190</td>\n",
              "      <td>CAROUSEL_ALBUM</td>\n",
              "      <td>2021-08-12T10:47:23+0000</td>\n",
              "      <td>0</td>\n",
              "      <td>0.0</td>\n",
              "      <td>https://www.instagram.com/p/CSeLZhpJNX2/</td>\n",
              "    </tr>\n",
              "    <tr>\n",
              "      <th>17</th>\n",
              "      <td>17998596259359676</td>\n",
              "      <td>IMAGE</td>\n",
              "      <td>2021-08-12T10:46:47+0000</td>\n",
              "      <td>0</td>\n",
              "      <td>1.0</td>\n",
              "      <td>https://www.instagram.com/p/CSeLVFklq9B/</td>\n",
              "    </tr>\n",
              "    <tr>\n",
              "      <th>18</th>\n",
              "      <td>17897755661190707</td>\n",
              "      <td>IMAGE</td>\n",
              "      <td>2021-08-12T10:46:02+0000</td>\n",
              "      <td>0</td>\n",
              "      <td>1.0</td>\n",
              "      <td>https://www.instagram.com/p/CSeLPkkp5Je/</td>\n",
              "    </tr>\n",
              "    <tr>\n",
              "      <th>19</th>\n",
              "      <td>17936859616603136</td>\n",
              "      <td>CAROUSEL_ALBUM</td>\n",
              "      <td>2021-08-12T10:45:40+0000</td>\n",
              "      <td>0</td>\n",
              "      <td>12.0</td>\n",
              "      <td>https://www.instagram.com/p/CSeLM64ptr7/</td>\n",
              "    </tr>\n",
              "    <tr>\n",
              "      <th>20</th>\n",
              "      <td>17913370561843606</td>\n",
              "      <td>CAROUSEL_ALBUM</td>\n",
              "      <td>2021-08-12T10:45:16+0000</td>\n",
              "      <td>2</td>\n",
              "      <td>57.0</td>\n",
              "      <td>https://www.instagram.com/p/CSeLJ-8hxMH/</td>\n",
              "    </tr>\n",
              "    <tr>\n",
              "      <th>21</th>\n",
              "      <td>18160619071165018</td>\n",
              "      <td>IMAGE</td>\n",
              "      <td>2021-08-12T10:44:43+0000</td>\n",
              "      <td>0</td>\n",
              "      <td>NaN</td>\n",
              "      <td>https://www.instagram.com/p/CSeLF9VJOZI/</td>\n",
              "    </tr>\n",
              "    <tr>\n",
              "      <th>22</th>\n",
              "      <td>17980045804398727</td>\n",
              "      <td>IMAGE</td>\n",
              "      <td>2021-08-12T10:43:04+0000</td>\n",
              "      <td>0</td>\n",
              "      <td>5.0</td>\n",
              "      <td>https://www.instagram.com/p/CSeK573pUcp/</td>\n",
              "    </tr>\n",
              "    <tr>\n",
              "      <th>23</th>\n",
              "      <td>17895097520251215</td>\n",
              "      <td>IMAGE</td>\n",
              "      <td>2021-08-12T10:42:36+0000</td>\n",
              "      <td>0</td>\n",
              "      <td>2.0</td>\n",
              "      <td>https://www.instagram.com/p/CSeK2bsFy3p/</td>\n",
              "    </tr>\n",
              "    <tr>\n",
              "      <th>24</th>\n",
              "      <td>17884969730324730</td>\n",
              "      <td>IMAGE</td>\n",
              "      <td>2021-08-12T10:41:10+0000</td>\n",
              "      <td>0</td>\n",
              "      <td>NaN</td>\n",
              "      <td>https://www.instagram.com/p/CSeKsB3JQfl/</td>\n",
              "    </tr>\n",
              "  </tbody>\n",
              "</table>\n",
              "</div>"
            ],
            "text/plain": [
              "                   id  ...                                 permalink\n",
              "0   17886020996498021  ...  https://www.instagram.com/p/CSeMoH-Je6T/\n",
              "1   17949735757503875  ...  https://www.instagram.com/p/CSeMZtJF2gj/\n",
              "2   17917998355852969  ...  https://www.instagram.com/p/CSeMSv4J0a6/\n",
              "3   17901880817136242  ...  https://www.instagram.com/p/CSeMPBXlfB5/\n",
              "4   17847331328623838  ...  https://www.instagram.com/p/CSeMMRup7tY/\n",
              "5   18187338439141605  ...  https://www.instagram.com/p/CSeMHfNJmmr/\n",
              "6   18002793907353253  ...  https://www.instagram.com/p/CSeMCu9nVvb/\n",
              "7   18178747291132543  ...  https://www.instagram.com/p/CSeMBkil816/\n",
              "8   17866152284573075  ...  https://www.instagram.com/p/CSeL9OwlkSd/\n",
              "9   17963684158445308  ...  https://www.instagram.com/p/CSeL1BsJ-YM/\n",
              "10  17863917911527699  ...  https://www.instagram.com/p/CSeL0bkFGkf/\n",
              "11  17913870016901381  ...  https://www.instagram.com/p/CSeLtb_BzUB/\n",
              "12  17896264376318734  ...  https://www.instagram.com/p/CSeLhCLF66x/\n",
              "13  17957940877471146  ...  https://www.instagram.com/p/CSeLf6qlJGY/\n",
              "14  17943068944554332  ...  https://www.instagram.com/p/CSeLd2GJQyg/\n",
              "15  17891852183213883  ...  https://www.instagram.com/p/CSeLbQEBLEf/\n",
              "16  17863288994531190  ...  https://www.instagram.com/p/CSeLZhpJNX2/\n",
              "17  17998596259359676  ...  https://www.instagram.com/p/CSeLVFklq9B/\n",
              "18  17897755661190707  ...  https://www.instagram.com/p/CSeLPkkp5Je/\n",
              "19  17936859616603136  ...  https://www.instagram.com/p/CSeLM64ptr7/\n",
              "20  17913370561843606  ...  https://www.instagram.com/p/CSeLJ-8hxMH/\n",
              "21  18160619071165018  ...  https://www.instagram.com/p/CSeLF9VJOZI/\n",
              "22  17980045804398727  ...  https://www.instagram.com/p/CSeK573pUcp/\n",
              "23  17895097520251215  ...  https://www.instagram.com/p/CSeK2bsFy3p/\n",
              "24  17884969730324730  ...  https://www.instagram.com/p/CSeKsB3JQfl/\n",
              "\n",
              "[25 rows x 6 columns]"
            ]
          },
          "metadata": {
            "tags": []
          }
        }
      ]
    },
    {
      "cell_type": "code",
      "metadata": {
        "id": "0db_Fw1mASWN"
      },
      "source": [
        ""
      ],
      "execution_count": null,
      "outputs": []
    }
  ]
}