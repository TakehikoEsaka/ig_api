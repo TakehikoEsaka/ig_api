{
  "nbformat": 4,
  "nbformat_minor": 0,
  "metadata": {
    "colab": {
      "name": "Colaboratory へようこそ",
      "provenance": [],
      "collapsed_sections": [],
      "toc_visible": true,
      "include_colab_link": true
    },
    "kernelspec": {
      "display_name": "Python 3",
      "name": "python3"
    }
  },
  "cells": [
    {
      "cell_type": "markdown",
      "metadata": {
        "id": "view-in-github",
        "colab_type": "text"
      },
      "source": [
        "<a href=\"https://colab.research.google.com/github/TakehikoEsaka/ig_api/blob/main/ig_graph_api_sample.ipynb\" target=\"_parent\"><img src=\"https://colab.research.google.com/assets/colab-badge.svg\" alt=\"Open In Colab\"/></a>"
      ]
    },
    {
      "cell_type": "code",
      "metadata": {
        "id": "Rk2MDvLgvucU"
      },
      "source": [
        "import matplotlib.pyplot as plt\n",
        "import pandas as pd\n",
        "import requests as re\n",
        "%matplotlib inline"
      ],
      "execution_count": 1,
      "outputs": []
    },
    {
      "cell_type": "code",
      "metadata": {
        "id": "jkfxs_OjvzEH"
      },
      "source": [
        "# ここにIDとアクセストークンを定義\n",
        "user_id = \"17841406973263608\"\n",
        "access_token = \"EAAElAXNNcb8BABgtGt9ThGJX9GFBQcF5NwZBeyhYVMJvSZA7AhoRWcAM8ObAH4ZCIAXQ6NEebFegM63KUFUV1XR89jou3ZBcGEkOhQEzZB9HaTjXodX9E7BQBREYiSI4BWpbfhU6c1sE6ZCraB3T9mhPOfOnsMkJMl7QRRPPrqYBZCRlBpCgZBWS\""
      ],
      "execution_count": 2,
      "outputs": []
    },
    {
      "cell_type": "code",
      "metadata": {
        "id": "qgqG_uTjz9fg"
      },
      "source": [
        "def get_hashtag_id(access_token, user_id, q):\n",
        "  url = \"https://graph.facebook.com/v11.0/ig_hashtag_search\"\n",
        "  payload = {\"user_id\" : user_id, \"q\" : q, \"access_token\" : access_token}\n",
        "  r = re.get(url, params = payload)\n",
        "  ig_hashtag_id = r.json()[\"data\"][0][\"id\"]\n",
        "  print(\"#{0} id :{1}\".format(q, ig_hashtag_id))\n",
        "  return ig_hashtag_id"
      ],
      "execution_count": 42,
      "outputs": []
    },
    {
      "cell_type": "code",
      "metadata": {
        "id": "CUTPcYqaz9SK"
      },
      "source": [
        "def get_df(access_token, user_id, ig_hashtag_id, fields):\n",
        "  url = \"https://graph.facebook.com/{0}/recent_media\".format(ig_hashtag_id)\n",
        "  payload = {\"user_id\" : user_id, \"fields\" : fields, \"access_token\" : access_token}\n",
        "  r = re.get(url, params = payload).json()\n",
        "  df = pd.io.json.json_normalize(r[\"data\"])\n",
        "  \n",
        "  # while True:\n",
        "  for i in range(5):\n",
        "    try:\n",
        "      next_url = r[\"paging\"][\"next\"]\n",
        "      print(r[\"paging\"])\n",
        "      r = re.get(next_url).json()\n",
        "      df_new = pd.io.json.json_normalize(r[\"data\"])\n",
        "      df = pd.concat([df, df_new], axis = 0)\n",
        "    except:\n",
        "      break\n",
        "  \n",
        "  return df"
      ],
      "execution_count": 57,
      "outputs": []
    },
    {
      "cell_type": "code",
      "metadata": {
        "id": "0db_Fw1mASWN",
        "outputId": "2b0c6e33-267a-4a2a-c507-1fa342050925",
        "colab": {
          "base_uri": "https://localhost:8080/"
        }
      },
      "source": [
        "q = [\"離乳食\"]\n",
        "# ハッシュタグIDを取得\n",
        "ig_hashtag_id = get_hashtag_id(access_token, user_id, q)\n",
        "\n",
        "# フィールド指定して情報GET \n",
        "fields = \"id, media_type, timestamp, comments_count, like_count, permalink\"\n",
        "df = get_df(access_token, user_id, ig_hashtag_id, fields)\n",
        "df.shape"
      ],
      "execution_count": 58,
      "outputs": [
        {
          "output_type": "stream",
          "text": [
            "#['離乳食'] id :17843847292028655\n"
          ],
          "name": "stdout"
        },
        {
          "output_type": "stream",
          "text": [
            "/usr/local/lib/python3.7/dist-packages/ipykernel_launcher.py:5: FutureWarning: pandas.io.json.json_normalize is deprecated, use pandas.json_normalize instead\n",
            "  \"\"\"\n"
          ],
          "name": "stderr"
        },
        {
          "output_type": "stream",
          "text": [
            "{'cursors': {'after': 'UVZAGRWNrZAG1kSGxYVVdaVFVYUXhNWFpUVEVSbE9UaFlNR1JwTWxselIwdFRjbFpmTjJaaVEydHZAWM0V6WW5OalZAXVXdOblF3YVdsTkxWa3pSMWt0VWtwYU9HTlZAkRVpEUkZAGaGJ6aDRVbmRLT1RCVFNGWkJhQT09'}, 'next': 'https://graph.facebook.com/v11.0/17843847292028655/recent_media?access_token=EAAElAXNNcb8BABgtGt9ThGJX9GFBQcF5NwZBeyhYVMJvSZA7AhoRWcAM8ObAH4ZCIAXQ6NEebFegM63KUFUV1XR89jou3ZBcGEkOhQEzZB9HaTjXodX9E7BQBREYiSI4BWpbfhU6c1sE6ZCraB3T9mhPOfOnsMkJMl7QRRPPrqYBZCRlBpCgZBWS&fields=id%2C+media_type%2C+timestamp%2C+comments_count%2C+like_count%2C+permalink&user_id=17841406973263608&limit=25&after=UVZAGRWNrZAG1kSGxYVVdaVFVYUXhNWFpUVEVSbE9UaFlNR1JwTWxselIwdFRjbFpmTjJaaVEydHZAWM0V6WW5OalZAXVXdOblF3YVdsTkxWa3pSMWt0VWtwYU9HTlZAkRVpEUkZAGaGJ6aDRVbmRLT1RCVFNGWkJhQT09'}\n"
          ],
          "name": "stdout"
        },
        {
          "output_type": "stream",
          "text": [
            "/usr/local/lib/python3.7/dist-packages/ipykernel_launcher.py:13: FutureWarning: pandas.io.json.json_normalize is deprecated, use pandas.json_normalize instead\n",
            "  del sys.path[0]\n"
          ],
          "name": "stderr"
        },
        {
          "output_type": "stream",
          "text": [
            "{'cursors': {'after': 'UVZAGRWFqazVUM1F4Tm1KMFVXNHpWVEJXZADJoUlRqaFVRbWRoYkV0VU5FcDFSR3d6TVVNd1gwVjNNbFpNVVRSb1ZAUWkJjM2RMWjNGa1JsOXdSa0p5ZAFhOallrMTNZAa2xDZAW1Sak1tSlJRbEpGVkRGRWVXSmtjQT09'}, 'next': 'https://graph.facebook.com/v11.0/17843847292028655/recent_media?access_token=EAAElAXNNcb8BABgtGt9ThGJX9GFBQcF5NwZBeyhYVMJvSZA7AhoRWcAM8ObAH4ZCIAXQ6NEebFegM63KUFUV1XR89jou3ZBcGEkOhQEzZB9HaTjXodX9E7BQBREYiSI4BWpbfhU6c1sE6ZCraB3T9mhPOfOnsMkJMl7QRRPPrqYBZCRlBpCgZBWS&fields=id%2C+media_type%2C+timestamp%2C+comments_count%2C+like_count%2C+permalink&user_id=17841406973263608&limit=25&after=UVZAGRWFqazVUM1F4Tm1KMFVXNHpWVEJXZADJoUlRqaFVRbWRoYkV0VU5FcDFSR3d6TVVNd1gwVjNNbFpNVVRSb1ZAUWkJjM2RMWjNGa1JsOXdSa0p5ZAFhOallrMTNZAa2xDZAW1Sak1tSlJRbEpGVkRGRWVXSmtjQT09'}\n",
            "{'cursors': {'after': 'UVZAGRVJuQTJVR0ZA0VGsxVVQweDJNWEZANVWxadlptbHllbWRRTVhCVlUyMXVWVFo0TlRaYU5UUTNSRmhIUm1Ka1V6WndhRkpSUzNwTlRsUlFNVzFpVldjemFVUk5SVmxHUW5wQmIyVm5aWEI0WW5KaFdrMTRjUT09'}, 'next': 'https://graph.facebook.com/v11.0/17843847292028655/recent_media?access_token=EAAElAXNNcb8BABgtGt9ThGJX9GFBQcF5NwZBeyhYVMJvSZA7AhoRWcAM8ObAH4ZCIAXQ6NEebFegM63KUFUV1XR89jou3ZBcGEkOhQEzZB9HaTjXodX9E7BQBREYiSI4BWpbfhU6c1sE6ZCraB3T9mhPOfOnsMkJMl7QRRPPrqYBZCRlBpCgZBWS&fields=id%2C+media_type%2C+timestamp%2C+comments_count%2C+like_count%2C+permalink&user_id=17841406973263608&limit=25&after=UVZAGRVJuQTJVR0ZA0VGsxVVQweDJNWEZANVWxadlptbHllbWRRTVhCVlUyMXVWVFo0TlRaYU5UUTNSRmhIUm1Ka1V6WndhRkpSUzNwTlRsUlFNVzFpVldjemFVUk5SVmxHUW5wQmIyVm5aWEI0WW5KaFdrMTRjUT09'}\n",
            "{'cursors': {'after': 'UVZAGRGNYTTBlWGhSTWpsNFpuQjRUbkpTYjBoRmRsOTZAhMWh4TTNoQ2NFOVNMWGg0U0hCaldEbHBSR1JoUlZAwR1NIUmxTRGxKV1dadVZAFaE9XbTVFWkV4WlkydzRTMDl1TURVMVNEZAHdORXhETWpBMlJESkhlUT09'}, 'next': 'https://graph.facebook.com/v11.0/17843847292028655/recent_media?access_token=EAAElAXNNcb8BABgtGt9ThGJX9GFBQcF5NwZBeyhYVMJvSZA7AhoRWcAM8ObAH4ZCIAXQ6NEebFegM63KUFUV1XR89jou3ZBcGEkOhQEzZB9HaTjXodX9E7BQBREYiSI4BWpbfhU6c1sE6ZCraB3T9mhPOfOnsMkJMl7QRRPPrqYBZCRlBpCgZBWS&fields=id%2C+media_type%2C+timestamp%2C+comments_count%2C+like_count%2C+permalink&user_id=17841406973263608&limit=25&after=UVZAGRGNYTTBlWGhSTWpsNFpuQjRUbkpTYjBoRmRsOTZAhMWh4TTNoQ2NFOVNMWGg0U0hCaldEbHBSR1JoUlZAwR1NIUmxTRGxKV1dadVZAFaE9XbTVFWkV4WlkydzRTMDl1TURVMVNEZAHdORXhETWpBMlJESkhlUT09'}\n",
            "{'cursors': {'after': 'UVZAGRGQzTkNablZA1YmtkRk9GSTVSMDlmYjIxS2IydFNVR3cwVGtnd1drOTBPVWhHYW5CRWVUTjRORGxYVldSU2NXRmZAZAelZA6V2twSlEzaERRMjF0Wm5sMlpVczNhVWMzT0dKVVdsWmFWeTFSYnpST1lrOUVZAZAz09'}, 'next': 'https://graph.facebook.com/v11.0/17843847292028655/recent_media?access_token=EAAElAXNNcb8BABgtGt9ThGJX9GFBQcF5NwZBeyhYVMJvSZA7AhoRWcAM8ObAH4ZCIAXQ6NEebFegM63KUFUV1XR89jou3ZBcGEkOhQEzZB9HaTjXodX9E7BQBREYiSI4BWpbfhU6c1sE6ZCraB3T9mhPOfOnsMkJMl7QRRPPrqYBZCRlBpCgZBWS&fields=id%2C+media_type%2C+timestamp%2C+comments_count%2C+like_count%2C+permalink&user_id=17841406973263608&limit=25&after=UVZAGRGQzTkNablZA1YmtkRk9GSTVSMDlmYjIxS2IydFNVR3cwVGtnd1drOTBPVWhHYW5CRWVUTjRORGxYVldSU2NXRmZAZAelZA6V2twSlEzaERRMjF0Wm5sMlpVczNhVWMzT0dKVVdsWmFWeTFSYnpST1lrOUVZAZAz09'}\n"
          ],
          "name": "stdout"
        },
        {
          "output_type": "execute_result",
          "data": {
            "text/plain": [
              "(150, 6)"
            ]
          },
          "metadata": {},
          "execution_count": 58
        }
      ]
    },
    {
      "cell_type": "code",
      "metadata": {
        "id": "k_G4CNVSz5ZR",
        "outputId": "3c46a119-2fbe-4439-d903-70fde9a45829",
        "colab": {
          "base_uri": "https://localhost:8080/",
          "height": 419
        }
      },
      "source": [
        "df"
      ],
      "execution_count": 62,
      "outputs": [
        {
          "output_type": "execute_result",
          "data": {
            "text/html": [
              "<div>\n",
              "<style scoped>\n",
              "    .dataframe tbody tr th:only-of-type {\n",
              "        vertical-align: middle;\n",
              "    }\n",
              "\n",
              "    .dataframe tbody tr th {\n",
              "        vertical-align: top;\n",
              "    }\n",
              "\n",
              "    .dataframe thead th {\n",
              "        text-align: right;\n",
              "    }\n",
              "</style>\n",
              "<table border=\"1\" class=\"dataframe\">\n",
              "  <thead>\n",
              "    <tr style=\"text-align: right;\">\n",
              "      <th></th>\n",
              "      <th>id</th>\n",
              "      <th>media_type</th>\n",
              "      <th>timestamp</th>\n",
              "      <th>comments_count</th>\n",
              "      <th>like_count</th>\n",
              "      <th>permalink</th>\n",
              "    </tr>\n",
              "  </thead>\n",
              "  <tbody>\n",
              "    <tr>\n",
              "      <th>0</th>\n",
              "      <td>17915660692926493</td>\n",
              "      <td>IMAGE</td>\n",
              "      <td>2021-08-24T06:28:01+0000</td>\n",
              "      <td>0</td>\n",
              "      <td>0.0</td>\n",
              "      <td>https://www.instagram.com/p/CS8nQX2FByt/</td>\n",
              "    </tr>\n",
              "    <tr>\n",
              "      <th>1</th>\n",
              "      <td>18165957235087961</td>\n",
              "      <td>CAROUSEL_ALBUM</td>\n",
              "      <td>2021-08-24T06:27:57+0000</td>\n",
              "      <td>0</td>\n",
              "      <td>0.0</td>\n",
              "      <td>https://www.instagram.com/p/CS8nP1dlOrp/</td>\n",
              "    </tr>\n",
              "    <tr>\n",
              "      <th>2</th>\n",
              "      <td>18247868308007323</td>\n",
              "      <td>IMAGE</td>\n",
              "      <td>2021-08-24T06:27:18+0000</td>\n",
              "      <td>0</td>\n",
              "      <td>0.0</td>\n",
              "      <td>https://www.instagram.com/p/CS8nLD1lIMq/</td>\n",
              "    </tr>\n",
              "    <tr>\n",
              "      <th>3</th>\n",
              "      <td>17957139598480689</td>\n",
              "      <td>CAROUSEL_ALBUM</td>\n",
              "      <td>2021-08-24T06:27:14+0000</td>\n",
              "      <td>0</td>\n",
              "      <td>4.0</td>\n",
              "      <td>https://www.instagram.com/p/CS8nKnFJZIF/</td>\n",
              "    </tr>\n",
              "    <tr>\n",
              "      <th>4</th>\n",
              "      <td>17861665250602769</td>\n",
              "      <td>IMAGE</td>\n",
              "      <td>2021-08-24T06:27:08+0000</td>\n",
              "      <td>0</td>\n",
              "      <td>0.0</td>\n",
              "      <td>https://www.instagram.com/p/CS8nJ1oleXD/</td>\n",
              "    </tr>\n",
              "    <tr>\n",
              "      <th>...</th>\n",
              "      <td>...</td>\n",
              "      <td>...</td>\n",
              "      <td>...</td>\n",
              "      <td>...</td>\n",
              "      <td>...</td>\n",
              "      <td>...</td>\n",
              "    </tr>\n",
              "    <tr>\n",
              "      <th>20</th>\n",
              "      <td>17865057797589513</td>\n",
              "      <td>IMAGE</td>\n",
              "      <td>2021-08-24T04:43:23+0000</td>\n",
              "      <td>0</td>\n",
              "      <td>9.0</td>\n",
              "      <td>https://www.instagram.com/p/CS8bR-mlRGQ/</td>\n",
              "    </tr>\n",
              "    <tr>\n",
              "      <th>21</th>\n",
              "      <td>17990598628374751</td>\n",
              "      <td>IMAGE</td>\n",
              "      <td>2021-08-24T04:43:17+0000</td>\n",
              "      <td>0</td>\n",
              "      <td>5.0</td>\n",
              "      <td>https://www.instagram.com/p/CS8bRPJLSfS/</td>\n",
              "    </tr>\n",
              "    <tr>\n",
              "      <th>22</th>\n",
              "      <td>18240664840064251</td>\n",
              "      <td>IMAGE</td>\n",
              "      <td>2021-08-24T04:43:13+0000</td>\n",
              "      <td>0</td>\n",
              "      <td>3.0</td>\n",
              "      <td>https://www.instagram.com/p/CS8bQulLsjN/</td>\n",
              "    </tr>\n",
              "    <tr>\n",
              "      <th>23</th>\n",
              "      <td>17887722047313872</td>\n",
              "      <td>IMAGE</td>\n",
              "      <td>2021-08-24T04:42:55+0000</td>\n",
              "      <td>2</td>\n",
              "      <td>73.0</td>\n",
              "      <td>https://www.instagram.com/p/CS8bOj9l52X/</td>\n",
              "    </tr>\n",
              "    <tr>\n",
              "      <th>24</th>\n",
              "      <td>18098876488267219</td>\n",
              "      <td>IMAGE</td>\n",
              "      <td>2021-08-24T04:42:21+0000</td>\n",
              "      <td>0</td>\n",
              "      <td>10.0</td>\n",
              "      <td>https://www.instagram.com/p/CS8bKYWPI-R/</td>\n",
              "    </tr>\n",
              "  </tbody>\n",
              "</table>\n",
              "<p>150 rows × 6 columns</p>\n",
              "</div>"
            ],
            "text/plain": [
              "                   id  ...                                 permalink\n",
              "0   17915660692926493  ...  https://www.instagram.com/p/CS8nQX2FByt/\n",
              "1   18165957235087961  ...  https://www.instagram.com/p/CS8nP1dlOrp/\n",
              "2   18247868308007323  ...  https://www.instagram.com/p/CS8nLD1lIMq/\n",
              "3   17957139598480689  ...  https://www.instagram.com/p/CS8nKnFJZIF/\n",
              "4   17861665250602769  ...  https://www.instagram.com/p/CS8nJ1oleXD/\n",
              "..                ...  ...                                       ...\n",
              "20  17865057797589513  ...  https://www.instagram.com/p/CS8bR-mlRGQ/\n",
              "21  17990598628374751  ...  https://www.instagram.com/p/CS8bRPJLSfS/\n",
              "22  18240664840064251  ...  https://www.instagram.com/p/CS8bQulLsjN/\n",
              "23  17887722047313872  ...  https://www.instagram.com/p/CS8bOj9l52X/\n",
              "24  18098876488267219  ...  https://www.instagram.com/p/CS8bKYWPI-R/\n",
              "\n",
              "[150 rows x 6 columns]"
            ]
          },
          "metadata": {},
          "execution_count": 62
        }
      ]
    },
    {
      "cell_type": "code",
      "metadata": {
        "id": "IMRvVrit2K10"
      },
      "source": [
        "import matplotlib.pyplot as plt\n",
        "%matplotlib inline"
      ],
      "execution_count": 63,
      "outputs": []
    },
    {
      "cell_type": "code",
      "metadata": {
        "id": "1oZp6kue2ugw",
        "outputId": "08d19670-8519-48e4-a8e9-1fef30f1fa04",
        "colab": {
          "base_uri": "https://localhost:8080/",
          "height": 282
        }
      },
      "source": [
        "plt.plot(df[\"timestamp\"])"
      ],
      "execution_count": 64,
      "outputs": [
        {
          "output_type": "execute_result",
          "data": {
            "text/plain": [
              "[<matplotlib.lines.Line2D at 0x7f0385311c90>]"
            ]
          },
          "metadata": {},
          "execution_count": 64
        },
        {
          "output_type": "display_data",
          "data": {
            "image/png": "[encoded data removed]",
            "text/plain": [
              "<Figure size 432x288 with 1 Axes>"
            ]
          },
          "metadata": {
            "needs_background": "light"
          }
        }
      ]
    },
    {
      "cell_type": "code",
      "metadata": {
        "id": "_ZW4bZ0x2xxh"
      },
      "source": [
        ""
      ],
      "execution_count": null,
      "outputs": []
    }
  ]
}